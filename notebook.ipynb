{
 "cells": [
  {
   "cell_type": "markdown",
   "metadata": {},
   "source": [
    "# ```<Insert Name of the Project>```\n",
    "\n",
    "\n",
    "## Problem Statement\n",
    "\n",
    "Give a brief description of the problem statement. \n",
    "\n",
    "## About the dataset\n",
    "\n",
    "Provide a brief overview of the dataset and the features (if applicable). \n",
    "\n",
    "\n",
    "## Why solve the project\n",
    "\n",
    "Alert the learner about the skills they will gain after solving the project. \n",
    "\n"
   ]
  },
  {
   "cell_type": "markdown",
   "metadata": {},
   "source": [
    "## ```<Task 1>```"
   ]
  },
  {
   "cell_type": "markdown",
   "metadata": {},
   "source": [
    "### Instructions"
   ]
  },
  {
   "cell_type": "code",
   "execution_count": 3,
   "metadata": {
    "ExecuteTime": {
     "end_time": "2019-02-21T12:55:12.277378Z",
     "start_time": "2019-02-21T12:55:12.274985Z"
    }
   },
   "outputs": [],
   "source": [
    "# Solution Code (needed)"
   ]
  },
  {
   "cell_type": "markdown",
   "metadata": {},
   "source": [
    "## ```<Task 2>```"
   ]
  },
  {
   "cell_type": "markdown",
   "metadata": {},
   "source": [
    "### Instructions"
   ]
  },
  {
   "cell_type": "code",
   "execution_count": 4,
   "metadata": {
    "ExecuteTime": {
     "end_time": "2019-02-21T12:55:13.617552Z",
     "start_time": "2019-02-21T12:55:13.615064Z"
    }
   },
   "outputs": [],
   "source": [
    "# Solution Code (needed)"
   ]
  },
  {
   "cell_type": "markdown",
   "metadata": {},
   "source": [
    "## ```<Task 3>```"
   ]
  },
  {
   "cell_type": "markdown",
   "metadata": {},
   "source": [
    "### Instructions - give a basic description of what the learner will do."
   ]
  },
  {
   "cell_type": "code",
   "execution_count": 5,
   "metadata": {
    "ExecuteTime": {
     "end_time": "2019-02-21T12:55:16.448744Z",
     "start_time": "2019-02-21T12:55:16.446468Z"
    }
   },
   "outputs": [],
   "source": [
    "# Solution code (optional)"
   ]
  },
  {
   "cell_type": "markdown",
   "metadata": {},
   "source": [
    "## ```<Task 4>```"
   ]
  },
  {
   "cell_type": "markdown",
   "metadata": {},
   "source": [
    "### Instructions - give a basic description of what the learner will do."
   ]
  },
  {
   "cell_type": "code",
   "execution_count": 6,
   "metadata": {
    "ExecuteTime": {
     "end_time": "2019-02-21T12:55:16.448744Z",
     "start_time": "2019-02-21T12:55:16.446468Z"
    }
   },
   "outputs": [],
   "source": [
    "# Solution Code (optional)"
   ]
  },
  {
   "cell_type": "code",
   "execution_count": null,
   "metadata": {},
   "outputs": [],
   "source": []
  }
 ],
 "metadata": {
  "hide_input": false,
  "kernelspec": {
   "display_name": "Python 3",
   "language": "python",
   "name": "python3"
  },
  "language_info": {
   "codemirror_mode": {
    "name": "ipython",
    "version": 3
   },
   "file_extension": ".py",
   "mimetype": "text/x-python",
   "name": "python",
   "nbconvert_exporter": "python",
   "pygments_lexer": "ipython3",
   "version": "3.6.5"
  }
 },
 "nbformat": 4,
 "nbformat_minor": 2
}
